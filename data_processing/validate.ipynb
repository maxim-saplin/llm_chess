{
 "cells": [
  {
   "cell_type": "code",
   "execution_count": 3,
   "metadata": {},
   "outputs": [],
   "source": [
    "# !pip install ipykernel pandas Jinja2 matplotlib"
   ]
  },
  {
   "cell_type": "code",
   "execution_count": 4,
   "metadata": {},
   "outputs": [],
   "source": [
    "import os\n",
    "import sys\n",
    "import pandas as pd\n",
    "import numpy as np\n",
    "from IPython.display import display\n",
    "import matplotlib.pyplot as plt\n",
    "sys.path.append(os.path.dirname(os.getcwd()))\n",
    "from aggregate_logs_to_csv import aggregate_models_to_csv, MODEL_OVERRIDES"
   ]
  },
  {
   "cell_type": "markdown",
   "metadata": {},
   "source": [
    "## Get Aggregate CSV"
   ]
  },
  {
   "cell_type": "code",
   "execution_count": 7,
   "metadata": {},
   "outputs": [
    {
     "name": "stdout",
     "output_type": "stream",
     "text": [
      "Loading logs from directory: .\n",
      "Total logs loaded from all directories: 0\n"
     ]
    }
   ],
   "source": [
    "LOGS_DIR = \"_logs/no_reflection\"\n",
    "AGGREGATE_CSV = os.path.join(LOGS_DIR, \"aggregate_models.csv\")\n",
    "REFINED_CSV = \"data_processing/refined.csv\"\n",
    "\n",
    "aggregate_models_to_csv(\".\",\"aggregate.csv\")"
   ]
  },
  {
   "cell_type": "code",
   "execution_count": 8,
   "metadata": {},
   "outputs": [
    {
     "name": "stdout",
     "output_type": "stream",
     "text": [
      "Empty DataFrame\n",
      "Columns: [model_name, total_games, black_llm_wins, white_rand_wins, draws, black_llm_win_rate, std_dev_black_llm_win_rate, moe_black_llm_win_rate, black_llm_loss_rate, std_dev_black_llm_loss_rate, moe_black_llm_loss_rate, draw_rate, std_dev_draw_rate, moe_draw_rate, black_llm_wins_percent, black_llm_draws_percent, white_rand_wins_percent, win_loss, std_dev_win_loss, moe_win_loss, win_loss_non_interrupted, std_dev_win_loss_non_interrupted, moe_win_loss_non_interrupted, game_duration, std_dev_game_duration, moe_game_duration, games_interrupted, games_interrupted_percent, std_dev_games_interrupted, moe_games_interrupted, games_not_interrupted, games_not_interrupted_percent, std_dev_games_not_interrupted, moe_games_not_interrupted, llm_total_moves, average_moves, std_dev_moves, moe_avg_moves, llm_wrong_actions, llm_wrong_moves, wrong_actions_per_100moves, wrong_moves_per_100moves, wrong_actions_per_1000moves, wrong_moves_per_1000moves, mistakes_per_1000moves, std_dev_wrong_actions_per_1000moves, std_dev_wrong_moves_per_1000moves, std_dev_mistakes_per_1000moves, moe_wrong_actions_per_1000moves, moe_wrong_moves_per_1000moves, moe_mistakes_per_1000moves, llm_avg_material, llm_std_dev_material, rand_avg_material, rand_std_dev_material, material_diff_llm_minus_rand, material_diff_llm_minus_rand_per_100moves, moe_material_diff_llm_minus_rand, completion_tokens_black, completion_tokens_black_per_move, std_dev_completion_tokens_black_per_move, moe_completion_tokens_black_per_move, min_moves, max_moves, prompt_tokens_black, total_tokens_black]\n",
      "Index: []\n"
     ]
    }
   ],
   "source": [
    "csv_file_path = \"aggregate.csv\"\n",
    "# CSV cols:\n",
    "# model_name,total_games,black_llm_wins,white_rand_wins,draws,black_llm_wins_percent,black_llm_draws_percent,llm_total_moves,llm_wrong_actions,llm_wrong_moves,llm_avg_material,llm_std_dev_material,rand_avg_material,rand_std_dev_material,material_diff_llm_minus_rand,material_diff_llm_minus_rand_per_100moves,wrong_actions_per_100moves,wrong_moves_per_100moves,wrong_actions_per_1000moves,wrong_moves_per_1000moves,mistakes_per_1000moves,std_dev_wrong_actions_per_1000moves,std_dev_wrong_moves_per_1000moves,std_dev_mistakes_per_1000moves,average_moves,std_dev_moves,completion_tokens_black,completion_tokens_black_per_move,min_moves,max_moves,prompt_tokens_black,total_tokens_black,moe_material_diff,moe_avg_moves,moe_wrong_actions_per_1000moves,moe_wrong_moves_per_1000moves,moe_mistakes_per_1000moves\n",
    "\n",
    "df_aggr = pd.read_csv(csv_file_path)\n",
    "print(df_aggr.to_string(index=False))\n",
    "\n",
    "# selected_columns = df_aggr[[\"model_name\", \"total_games\", \"wrong_actions_per_100moves\", \"wrong_moves_per_100moves\", \"min_moves\", \"max_moves\", \"average_moves\", \"std_dev_moves\"]]\n",
    "\n",
    "# Print the DataFrame as a properly tabbed table with headers\n",
    "# print(selected_columns.to_string(index=False))\n",
    "\n"
   ]
  }
 ],
 "metadata": {
  "kernelspec": {
   "display_name": ".venv",
   "language": "python",
   "name": "python3"
  },
  "language_info": {
   "codemirror_mode": {
    "name": "ipython",
    "version": 3
   },
   "file_extension": ".py",
   "mimetype": "text/x-python",
   "name": "python",
   "nbconvert_exporter": "python",
   "pygments_lexer": "ipython3",
   "version": "3.12.8"
  }
 },
 "nbformat": 4,
 "nbformat_minor": 2
}
